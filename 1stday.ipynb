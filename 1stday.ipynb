{
 "cells": [
  {
   "cell_type": "code",
   "execution_count": null,
   "id": "a3979106-f2b6-4a9a-a22c-345b157eee76",
   "metadata": {},
   "outputs": [
    {
     "name": "stdout",
     "output_type": "stream",
     "text": [
      "Enter the number 7666407609\n",
      "Enter the number 9370074731\n"
     ]
    },
    {
     "name": "stdout",
     "output_type": "stream",
     "text": [
      "Addition is : 17036482340\n"
     ]
    }
   ],
   "source": [
    "b=int(input(\"Enter the number\"))\n",
    "c=int(input(\"Enter the number\"))\n",
    "a=b+c\n",
    "print(\"Addition is :\",a)"
   ]
  },
  {
   "cell_type": "code",
   "execution_count": null,
   "id": "d2260399-fe6a-465b-9955-bcde21038c01",
   "metadata": {},
   "outputs": [
    {
     "name": "stdout",
     "output_type": "stream",
     "text": [
      "Enter the any number 800908696\n",
      "Enter thr any number 7989809\n"
     ]
    },
    {
     "name": "stdout",
     "output_type": "stream",
     "text": [
      "substraction is: 792918887\n"
     ]
    }
   ],
   "source": [
    "a=int(input(\"Enter the any number\"))\n",
    "b=int(input(\"Enter thr any number\"))\n",
    "c=a-b    #jr position chang kele tr run ka hot nahi eg a-b=c\n",
    "print(\"substraction is:\",c)"
   ]
  },
  {
   "cell_type": "code",
   "execution_count": null,
   "id": "5e2cff51-2ea7-4c9a-a99a-d90121e21cbc",
   "metadata": {},
   "outputs": [
    {
     "name": "stdout",
     "output_type": "stream",
     "text": [
      "Enter any number 6000\n",
      "Enter any number 9090\n"
     ]
    },
    {
     "name": "stdout",
     "output_type": "stream",
     "text": [
      "Division is: 0.6600660066006601\n"
     ]
    }
   ],
   "source": [
    "r=int(input(\"Enter any number\"))\n",
    "c=int(input(\"Enter any number\"))\n",
    "d=r/c\n",
    "print(\"Division is:\",d)"
   ]
  },
  {
   "cell_type": "code",
   "execution_count": null,
   "id": "958fe6a4-f681-41d9-9447-f78c22e63379",
   "metadata": {},
   "outputs": [
    {
     "name": "stdout",
     "output_type": "stream",
     "text": [
      "Enter number 547567678879\n",
      "Enter number 89\n"
     ]
    },
    {
     "name": "stdout",
     "output_type": "stream",
     "text": [
      "Multipication is: 4374961168816544111\n"
     ]
    }
   ],
   "source": [
    "a=int(input(\"Enter number\"))\n",
    "b+int(input(\"Enter number\"))\n",
    "c=a*b\n",
    "print(\"Multipication is:\",c)"
   ]
  },
  {
   "cell_type": "code",
   "execution_count": null,
   "id": "2efcc976-1fb2-46df-8868-be1087afe488",
   "metadata": {},
   "outputs": [
    {
     "name": "stdout",
     "output_type": "stream",
     "text": [
      "enter base 345\n",
      "enter height 23\n"
     ]
    },
    {
     "name": "stdout",
     "output_type": "stream",
     "text": [
      "1.1716804700500565e+58\n"
     ]
    }
   ],
   "source": [
    "b=int(input(\"enter base\"))\n",
    "h=int(input(\"enter height\"))\n",
    "tri=0.5*b**h\n",
    "print(tri)"
   ]
  },
  {
   "cell_type": "code",
   "execution_count": null,
   "id": "472fafc4-38f0-42e1-b3f3-89a497172f72",
   "metadata": {},
   "outputs": [
    {
     "name": "stdout",
     "output_type": "stream",
     "text": [
      "Enter the radius 434856487\n"
     ]
    },
    {
     "name": "stdout",
     "output_type": "stream",
     "text": [
      "Area of circle: 5.937745158579809e+17\n"
     ]
    }
   ],
   "source": [
    "r=int(input(\"Enter the radius\"))\n",
    "circle=3.14*r**2\n",
    "print(\"Area of circle:\",circle)"
   ]
  },
  {
   "cell_type": "code",
   "execution_count": null,
   "id": "5285797b-445c-4462-ad74-e0368739b5e3",
   "metadata": {},
   "outputs": [
    {
     "name": "stdout",
     "output_type": "stream",
     "text": [
      "Enter the length 3534534546\n",
      "Enter the base 5454232142042394\n"
     ]
    },
    {
     "name": "stdout",
     "output_type": "stream",
     "text": [
      "19278171927952420589543124\n"
     ]
    }
   ],
   "source": [
    "l=int(input(\"Enter the length\"))\n",
    "b=int(input(\"Enter the base\"))\n",
    "rect=l*b\n",
    "print(rect)"
   ]
  },
  {
   "cell_type": "code",
   "execution_count": null,
   "id": "d558dfb5-673c-4d92-acfc-d3e3010ea8df",
   "metadata": {},
   "outputs": [
    {
     "name": "stdout",
     "output_type": "stream",
     "text": [
      "Enter the squre 987000\n"
     ]
    },
    {
     "name": "stdout",
     "output_type": "stream",
     "text": [
      "974169000000\n"
     ]
    }
   ],
   "source": [
    "s=int(input(\"Enter the squre\"))\n",
    "sq=s**2\n",
    "print(sq)"
   ]
  },
  {
   "cell_type": "code",
   "execution_count": null,
   "id": "43c192f7-94c5-40eb-9f3d-420d28f1f051",
   "metadata": {},
   "outputs": [
    {
     "name": "stdout",
     "output_type": "stream",
     "text": [
      "634533 is grether then 34434\n"
     ]
    }
   ],
   "source": [
    "a=634533\n",
    "b=34434\n",
    "if(a>b):\n",
    "    print(f\"{a} is grether then {b}\")\n",
    "    "
   ]
  },
  {
   "cell_type": "code",
   "execution_count": null,
   "id": "f2d2d95e-0aa0-4e8f-a9fa-34cc4ae74ea5",
   "metadata": {},
   "outputs": [
    {
     "name": "stdout",
     "output_type": "stream",
     "text": [
      "Both are equal\n"
     ]
    }
   ],
   "source": [
    "a=900008888888\n",
    "b=900008888888\n",
    "if(a>b):\n",
    "    print(f\"{a} is grether then {b}\")\n",
    "elif(b>a):\n",
    "    print(f\"{b} is grather then{a}\")\n",
    "else:\n",
    "    print(\"Both are equal\")"
   ]
  },
  {
   "cell_type": "code",
   "execution_count": null,
   "id": "0da9b944-7783-4e02-8893-5609205d8a19",
   "metadata": {},
   "outputs": [
    {
     "name": "stdout",
     "output_type": "stream",
     "text": [
      "634533 is grether then 34434\n"
     ]
    }
   ],
   "source": [
    "a=634533\n",
    "b=34434\n",
    "if(a>b):\n",
    "    print(f\"{a} is grether then {b}\")\n",
    "elif(b>a):\n",
    "    print(f\"{b} is grather then{a}\")\n",
    "else:\n",
    "    print(\"Both are equal\")\n",
    "    \n",
    "    "
   ]
  },
  {
   "cell_type": "markdown",
   "id": "f16d255e-833e-40f2-b0a7-8f6359451624",
   "metadata": {},
   "source": [
    "### DAY 2 practice"
   ]
  },
  {
   "cell_type": "code",
   "execution_count": null,
   "id": "a897bc6b-417b-4f49-a819-0a343999c321",
   "metadata": {},
   "outputs": [],
   "source": []
  }
 ],
 "metadata": {
  "kernelspec": {
   "display_name": "Python 3 (ipykernel)",
   "language": "python",
   "name": "python3"
  },
  "language_info": {
   "codemirror_mode": {
    "name": "ipython",
    "version": 3
   },
   "file_extension": ".py",
   "mimetype": "text/x-python",
   "name": "python",
   "nbconvert_exporter": "python",
   "pygments_lexer": "ipython3",
   "version": "3.13.5"
  }
 },
 "nbformat": 4,
 "nbformat_minor": 5
}
