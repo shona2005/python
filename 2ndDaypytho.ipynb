{
 "cells": [
  {
   "cell_type": "code",
   "execution_count": 1,
   "id": "1c0a2ef5-10d2-4714-986c-671e04174122",
   "metadata": {},
   "outputs": [
    {
     "name": "stdout",
     "output_type": "stream",
     "text": [
      "77\n"
     ]
    }
   ],
   "source": [
    "#write a python program add two number.\n",
    "a=23\n",
    "b=54\n",
    "print(a+b)"
   ]
  },
  {
   "cell_type": "code",
   "execution_count": 5,
   "id": "585f2d00-3312-4cdd-a2bf-2dfdb9fdf68d",
   "metadata": {},
   "outputs": [
    {
     "name": "stdout",
     "output_type": "stream",
     "text": [
      "Reminder when a is divided by b is 0\n"
     ]
    }
   ],
   "source": [
    "#write a python program to find remainder when a number is divided by z\n",
    "a=35\n",
    "b=5\n",
    "print(\"Reminder when a is divided by b is\",a%b)"
   ]
  },
  {
   "cell_type": "code",
   "execution_count": 7,
   "id": "b1678305-521b-4342-bf45-c39faff623f6",
   "metadata": {},
   "outputs": [
    {
     "name": "stdin",
     "output_type": "stream",
     "text": [
      "enter the value of a 34.2\n"
     ]
    },
    {
     "name": "stdout",
     "output_type": "stream",
     "text": [
      "<class 'str'>\n"
     ]
    }
   ],
   "source": [
    "#check the type of variable assined using input ()function.\n",
    "a=input(\"enter the value of a\")\n",
    "print(type(a))"
   ]
  },
  {
   "cell_type": "code",
   "execution_count": 11,
   "id": "d0caceca-9356-4a34-a63c-8017e5cea96d",
   "metadata": {},
   "outputs": [
    {
     "name": "stdin",
     "output_type": "stream",
     "text": [
      "enter the number 34\n",
      "enter the number 80\n"
     ]
    },
    {
     "name": "stdout",
     "output_type": "stream",
     "text": [
      "a greather than b is False\n"
     ]
    }
   ],
   "source": [
    "# use comparition operator to find out whether a given variable is a greather than b or not,Take a=34 & b=80.\n",
    "a=int(input(\"enter the number\"))\n",
    "b=int(input(\"enter the number\"))\n",
    "print(\"a greather than b is\",a>b)"
   ]
  },
  {
   "cell_type": "code",
   "execution_count": 12,
   "id": "770904ea-67bf-4b5b-b5f9-fe6886ee6998",
   "metadata": {},
   "outputs": [
    {
     "name": "stdin",
     "output_type": "stream",
     "text": [
      "enter the number 45\n",
      "enter the number 55\n"
     ]
    },
    {
     "name": "stdout",
     "output_type": "stream",
     "text": [
      "the avrage of the two numberis 50.0\n"
     ]
    }
   ],
   "source": [
    "# write a python program to find an average of two number entered by the user.\n",
    "a=int(input(\"enter the number\"))\n",
    "b=int(input(\"enter the number\"))\n",
    "print(\"the avrage of the two numberis\",(a+b)/2)"
   ]
  },
  {
   "cell_type": "code",
   "execution_count": 15,
   "id": "0f34eee6-0133-4bf3-a942-fed93d45b16d",
   "metadata": {},
   "outputs": [
    {
     "name": "stdin",
     "output_type": "stream",
     "text": [
      "enter the number 7\n"
     ]
    },
    {
     "name": "stdout",
     "output_type": "stream",
     "text": [
      "the squaren of the number is 49\n"
     ]
    }
   ],
   "source": [
    "#write a python program to calculate the square of a number entered by the user.\n",
    "a=int(input(\"enter the number\"))\n",
    "\n",
    "print(\"the squaren of the number is\",a**2) \n"
   ]
  },
  {
   "cell_type": "code",
   "execution_count": 2,
   "id": "36750678-700d-4338-ae86-12a081265df6",
   "metadata": {},
   "outputs": [
    {
     "name": "stdin",
     "output_type": "stream",
     "text": [
      "Enter your name:  supriya\n"
     ]
    },
    {
     "name": "stdout",
     "output_type": "stream",
     "text": [
      "Good Afternoon supriya\n",
      "good afternoon +name+ \n"
     ]
    }
   ],
   "source": [
    "#string problem\n",
    "\n",
    "# 1 write a python program to display a user entered name followed by good afternoon using input() function.\n",
    "a=input(\"Enter your name: \")\n",
    "\n",
    "print(f\"Good Afternoon {a}\")"
   ]
  },
  {
   "cell_type": "code",
   "execution_count": 8,
   "id": "30860f23-631e-4d21-a5cc-63f416dc4f51",
   "metadata": {},
   "outputs": [
    {
     "name": "stdout",
     "output_type": "stream",
     "text": [
      "Dear SUPRIYA,\n",
      "You are selected!\n",
      "1 december 2025\n"
     ]
    }
   ],
   "source": [
    "#2 write a program to fill in a letter template given below with name and date.\n",
    "letter='''Dear <|Name|>,\n",
    "You are selected!\n",
    "<|Date|>'''\n",
    "\n",
    "print(letter.replace(\"<|Name|>\",\"SUPRIYA\").replace(\"<|Date|>\",\"1 december 2025\"))"
   ]
  },
  {
   "cell_type": "code",
   "execution_count": 14,
   "id": "6109830b-ed0f-4cda-a991-bc0af20b8c15",
   "metadata": {},
   "outputs": [
    {
     "name": "stdout",
     "output_type": "stream",
     "text": [
      "-1\n",
      "15\n",
      "harry is a good boy \n"
     ]
    }
   ],
   "source": [
    "# 3 write a program to detect double space string.\n",
    "\n",
    "name = \"harrt is a good boy\"\n",
    "n= \"harry is a good   boy \"\n",
    "print(name.find(\"  \"))# sapce nahi hoga to -1 aaye ga \n",
    "print(n.find(\"  \"))\n",
    "# 4 replace the double space in proble 3 in single space\n",
    "print(n.replace(\"  \",\"\"))# string are immutable which meance can not change them running function on them"
   ]
  },
  {
   "cell_type": "code",
   "execution_count": 15,
   "id": "6c4024a9-2cf5-492e-b316-fedd5040c551",
   "metadata": {},
   "outputs": [
    {
     "name": "stdout",
     "output_type": "stream",
     "text": [
      "Dear Harry,\n",
      "\tThis python cource is nice. \n",
      "Thanks!\n"
     ]
    }
   ],
   "source": [
    "# 5 write a program to formate the following letter using escape sequence characters.\n",
    "#letter=\"Dear Harry, this python cource is nice. Thanks!\"\n",
    "letter=\"Dear Harry,\\n\\tThis python cource is nice. \\nThanks!\"\n",
    "print(letter)"
   ]
  }
 ],
 "metadata": {
  "kernelspec": {
   "display_name": "Python 3 (ipykernel)",
   "language": "python",
   "name": "python3"
  },
  "language_info": {
   "codemirror_mode": {
    "name": "ipython",
    "version": 3
   },
   "file_extension": ".py",
   "mimetype": "text/x-python",
   "name": "python",
   "nbconvert_exporter": "python",
   "pygments_lexer": "ipython3",
   "version": "3.13.5"
  }
 },
 "nbformat": 4,
 "nbformat_minor": 5
}
