{
 "cells": [
  {
   "cell_type": "code",
   "execution_count": null,
   "id": "e96f5e17-4ec0-4728-8acc-ec6491783654",
   "metadata": {},
   "outputs": [],
   "source": [
    "#list\n",
    "#list are mutable"
   ]
  },
  {
   "cell_type": "code",
   "execution_count": 9,
   "id": "135449b3-c2ce-4067-8465-fac55f82a9e9",
   "metadata": {},
   "outputs": [
    {
     "name": "stdout",
     "output_type": "stream",
     "text": [
      "Apple\n",
      "Grapes\n",
      "['Orange', 5, 345.06]\n"
     ]
    }
   ],
   "source": [
    "friends=[\"Apple\",\"Orange\",5,345.06,False,\"akshu\",\"sanket\"]\n",
    "\n",
    "print(friends[0])\n",
    "friends[0]=\"Grapes\"\n",
    "print(friends[0])\n",
    "\n",
    "friends.append(\"Harry\")\n",
    "print(friends[1:4])"
   ]
  },
  {
   "cell_type": "code",
   "execution_count": 15,
   "id": "705e8dd4-8898-499e-8289-7c393e837599",
   "metadata": {},
   "outputs": [
    {
     "name": "stdout",
     "output_type": "stream",
     "text": [
      "['Apple', 'Orange', 5, 345.06, False, 'akshu', 'sanket', 'supriya']\n"
     ]
    }
   ],
   "source": [
    "#method of list\n",
    "S=[\"Apple\",\"Orange\",5,345.06,False,\"akshu\",\"sanket\"]\n",
    "S.append(\"supriya\")\n",
    "print(S)\n"
   ]
  },
  {
   "cell_type": "code",
   "execution_count": 19,
   "id": "7cfb35be-9609-46d3-9db4-ca3723b83f7a",
   "metadata": {},
   "outputs": [
    {
     "name": "stdout",
     "output_type": "stream",
     "text": [
      "[1, 2, 6, 11, 23, 32, 62]\n"
     ]
    }
   ],
   "source": [
    "l1=[1,23,32,62,2,6,11]\n",
    "l1.sort()\n",
    "print(l1)"
   ]
  },
  {
   "cell_type": "code",
   "execution_count": 28,
   "id": "eb71dffe-c7d5-44ad-9d7d-21ac66d2d9f6",
   "metadata": {},
   "outputs": [
    {
     "name": "stdout",
     "output_type": "stream",
     "text": [
      "62\n",
      "[11, 6, 32, 23, 1]\n"
     ]
    }
   ],
   "source": [
    "l1=[1,23,32,62,2,6,11]\n",
    "l1.reverse()\n",
    "l1.insert(3,666666)#insert the value in specific index     \n",
    "l1.pop(3)\n",
    "print(l1.pop(3)) #print the index value\n",
    "l1.remove(2)\n",
    "print(l1)"
   ]
  },
  {
   "cell_type": "code",
   "execution_count": null,
   "id": "48c8265a-3bb0-48ff-86c3-e3119ed54a24",
   "metadata": {},
   "outputs": [],
   "source": [
    "# TUPLE \n",
    "# tuple is immutab\n"
   ]
  },
  {
   "cell_type": "code",
   "execution_count": 1,
   "id": "1b9f99e2-ae94-49d2-97f5-6c5e12122301",
   "metadata": {},
   "outputs": [
    {
     "name": "stdout",
     "output_type": "stream",
     "text": [
      "<class 'tuple'>\n"
     ]
    }
   ],
   "source": [
    "a=(1,2,5,6)\n",
    "print(type(a))"
   ]
  },
  {
   "cell_type": "code",
   "execution_count": 2,
   "id": "9b41fbf8-66a1-4b65-b195-a13269bd3d59",
   "metadata": {},
   "outputs": [
    {
     "name": "stdout",
     "output_type": "stream",
     "text": [
      "<class 'tuple'>\n"
     ]
    }
   ],
   "source": [
    "a=(1,)\n",
    "print(type(a))"
   ]
  },
  {
   "cell_type": "code",
   "execution_count": null,
   "id": "aceb3f90-9b8f-4abc-b616-2dd9d6c422c3",
   "metadata": {},
   "outputs": [],
   "source": [
    "# TUPLE does not change."
   ]
  },
  {
   "cell_type": "code",
   "execution_count": null,
   "id": "ea795d1a-ae3c-464e-a856-f6ef64053a19",
   "metadata": {},
   "outputs": [],
   "source": [
    "#method of tuple\n"
   ]
  },
  {
   "cell_type": "code",
   "execution_count": 2,
   "id": "ee94ad33-d79e-4553-80b6-0c2eb1965ec4",
   "metadata": {},
   "outputs": [
    {
     "name": "stdin",
     "output_type": "stream",
     "text": [
      "Enter the fruit name:  mango\n",
      "Enter the fruit name:  banana\n",
      "Enter the fruit name:  apple \n",
      "Enter the fruit name:  pineapple\n",
      "Enter the fruit name:  pear\n",
      "Enter the fruit name:  orange\n",
      "Enter the fruit name:  puppya\n"
     ]
    },
    {
     "name": "stdout",
     "output_type": "stream",
     "text": [
      "['mango', 'banana', 'apple ', 'pineapple', 'pear', 'orange', 'puppya']\n"
     ]
    }
   ],
   "source": [
    "# Write a program to store seven fruits in a list entered by user.\n",
    "\n",
    "fruits = []\n",
    "\n",
    "f1=input(\"Enter the fruit name: \")\n",
    "fruits.append(f1)\n",
    "\n",
    "f2=input(\"Enter the fruit name: \")\n",
    "fruits.append(f2)\n",
    "\n",
    "f3=input(\"Enter the fruit name: \")\n",
    "fruits.append(f3)\n",
    "\n",
    "f4=input(\"Enter the fruit name: \")\n",
    "fruits.append(f4)\n",
    "\n",
    "f5=input(\"Enter the fruit name: \")\n",
    "fruits.append(f5)\n",
    "\n",
    "f6=input(\"Enter the fruit name: \")\n",
    "fruits.append(f6)\n",
    "\n",
    "f7=input(\"Enter the fruit name: \")\n",
    "fruits.append(f7)\n",
    "print(fruits)"
   ]
  },
  {
   "cell_type": "code",
   "execution_count": 4,
   "id": "c978d711-b50a-45fe-8ca4-4250a219c2a0",
   "metadata": {},
   "outputs": [
    {
     "name": "stdin",
     "output_type": "stream",
     "text": [
      "Enter the mark:  90\n",
      "Enter the mark:  34\n",
      "Enter the mark:  2\n",
      "Enter the mark:  60\n",
      "Enter the mark:  35\n",
      "Enter the mark:  54\n"
     ]
    },
    {
     "name": "stdout",
     "output_type": "stream",
     "text": [
      "[90, 34, 2, 60, 35, 54]\n"
     ]
    }
   ],
   "source": [
    "# WRITE A PROGRAM TOACCEPT MARK OF 6 STUDENT AND DISPLAY THEM IN A SORTED MANNER.\n",
    "marks = []\n",
    "\n",
    "f1=int(input(\"Enter the mark: \"))\n",
    "marks.append(f1)\n",
    "\n",
    "f2=int(input(\"Enter the mark: \"))\n",
    "marks.append(f2)\n",
    "\n",
    "f3=int(input(\"Enter the mark: \"))\n",
    "marks.append(f3)\n",
    "\n",
    "f4=int(input(\"Enter the mark: \"))\n",
    "marks.append(f4)\n",
    "\n",
    "f5=int(input(\"Enter the mark: \"))\n",
    "marks.append(f5)\n",
    "\n",
    "f6=int(input(\"Enter the mark: \"))\n",
    "marks.append(f6)\n",
    "print(marks)"
   ]
  },
  {
   "cell_type": "code",
   "execution_count": 5,
   "id": "f0a53419-d7d8-4cbd-a7c6-d77ec918524d",
   "metadata": {},
   "outputs": [
    {
     "ename": "TypeError",
     "evalue": "'tuple' object does not support item assignment",
     "output_type": "error",
     "traceback": [
      "\u001b[1;31m---------------------------------------------------------------------------\u001b[0m",
      "\u001b[1;31mTypeError\u001b[0m                                 Traceback (most recent call last)",
      "Cell \u001b[1;32mIn[5], line 4\u001b[0m\n\u001b[0;32m      1\u001b[0m \u001b[38;5;66;03m#check that tuple type can not be changed in python.\u001b[39;00m\n\u001b[0;32m      3\u001b[0m a \u001b[38;5;241m=\u001b[39m (\u001b[38;5;241m34\u001b[39m,\u001b[38;5;241m234\u001b[39m,\u001b[38;5;124m\"\u001b[39m\u001b[38;5;124mharry\u001b[39m\u001b[38;5;124m\"\u001b[39m)\n\u001b[1;32m----> 4\u001b[0m a[\u001b[38;5;241m2\u001b[39m]\u001b[38;5;241m=\u001b[39m\u001b[38;5;124m\"\u001b[39m\u001b[38;5;124mpoter\u001b[39m\u001b[38;5;124m\"\u001b[39m\n",
      "\u001b[1;31mTypeError\u001b[0m: 'tuple' object does not support item assignment"
     ]
    }
   ],
   "source": [
    "#check that tuple type can not be changed in python.\n",
    "\n",
    "a = (34,234,\"harry\")\n",
    "a[2]=\"poter\""
   ]
  },
  {
   "cell_type": "code",
   "execution_count": 6,
   "id": "b3720a62-70e6-4c1c-b0ce-d177d38b39f6",
   "metadata": {},
   "outputs": [
    {
     "name": "stdout",
     "output_type": "stream",
     "text": [
      "825\n"
     ]
    }
   ],
   "source": [
    "#write a program to sum a list with 4 number.\n",
    "n=[23,34,645,123]\n",
    "\n",
    "print(sum(n))"
   ]
  },
  {
   "cell_type": "code",
   "execution_count": 7,
   "id": "f1c401f4-b225-4e93-87e6-95fa25beb10b",
   "metadata": {},
   "outputs": [
    {
     "name": "stdout",
     "output_type": "stream",
     "text": [
      "3\n"
     ]
    }
   ],
   "source": [
    "#write a program to count the number of zero in the following tuple\n",
    "a=(7,0,3,0,0,9)\n",
    "\n",
    "n=a.count(0)\n",
    "print(n)"
   ]
  }
 ],
 "metadata": {
  "kernelspec": {
   "display_name": "Python 3 (ipykernel)",
   "language": "python",
   "name": "python3"
  },
  "language_info": {
   "codemirror_mode": {
    "name": "ipython",
    "version": 3
   },
   "file_extension": ".py",
   "mimetype": "text/x-python",
   "name": "python",
   "nbconvert_exporter": "python",
   "pygments_lexer": "ipython3",
   "version": "3.13.5"
  }
 },
 "nbformat": 4,
 "nbformat_minor": 5
}
